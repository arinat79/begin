{
 "cells": [
  {
   "cell_type": "code",
   "execution_count": 3,
   "metadata": {},
   "outputs": [],
   "source": [
    "import requests\n",
    "from html.parser import HTMLParser\n",
    "import re\n",
    "from tqdm import tqdm\n",
    "import json\n",
    "import pandas as pd\n",
    "from bs4 import BeautifulSoup\n",
    "from multiprocessing.dummy import Pool as ThreadPool\n",
    "from selenium import webdriver\n",
    "import html\n",
    "from time import sleep"
   ]
  },
  {
   "cell_type": "code",
   "execution_count": 133,
   "metadata": {},
   "outputs": [],
   "source": [
    "url_format = \"https://www.chitai-gorod.ru/search/result.php?q=%D4%F0%E0%E9%20%CC.&type=author\"\n",
    "url_current = \"https://www.chitai-gorod.ru/search/result.php?q=%D4%F0%E0%E9%20%CC.&type=author\""
   ]
  },
  {
   "cell_type": "code",
   "execution_count": 134,
   "metadata": {},
   "outputs": [],
   "source": [
    "with webdriver.Firefox() as driver:\n",
    "    driver.get(url_format)\n",
    "    sleep(5)"
   ]
  },
  {
   "cell_type": "code",
   "execution_count": 135,
   "metadata": {},
   "outputs": [],
   "source": [
    " def get_book_info(driver, url, t_sleep=15):\n",
    "    driver.get(url)\n",
    "    sleep(t_sleep) \n",
    "    result = []\n",
    "    items = driver.find_elements_by_class_name(\"product-card\")\n",
    "    for item in items:\n",
    "        classes = item.get_attribute('data-product').split()\n",
    "        result.append(classes)   \n",
    "    return result\n",
    "\n",
    "with webdriver.Firefox() as driver:\n",
    "    result1 = get_book_info(driver, url_current)"
   ]
  },
  {
   "cell_type": "code",
   "execution_count": 136,
   "metadata": {},
   "outputs": [
    {
     "data": {
      "text/plain": [
       "153"
      ]
     },
     "execution_count": 136,
     "metadata": {},
     "output_type": "execute_result"
    }
   ],
   "source": [
    "len(result1)"
   ]
  },
  {
   "cell_type": "code",
   "execution_count": 202,
   "metadata": {},
   "outputs": [
    {
     "ename": "AttributeError",
     "evalue": "'list' object has no attribute 'head'",
     "output_type": "error",
     "traceback": [
      "\u001b[1;31m---------------------------------------------------------------------------\u001b[0m",
      "\u001b[1;31mAttributeError\u001b[0m                            Traceback (most recent call last)",
      "\u001b[1;32m<ipython-input-202-987fd5362aad>\u001b[0m in \u001b[0;36m<module>\u001b[1;34m()\u001b[0m\n\u001b[1;32m----> 1\u001b[1;33m \u001b[0mresult1\u001b[0m\u001b[1;33m.\u001b[0m\u001b[0mhead\u001b[0m\u001b[1;33m(\u001b[0m\u001b[1;33m)\u001b[0m\u001b[1;33m\u001b[0m\u001b[0m\n\u001b[0m",
      "\u001b[1;31mAttributeError\u001b[0m: 'list' object has no attribute 'head'"
     ]
    }
   ],
   "source": [
    "result1[0:10]"
   ]
  },
  {
   "cell_type": "code",
   "execution_count": 138,
   "metadata": {},
   "outputs": [],
   "source": [
    "url_format = \"https://www.chitai-gorod.ru/search/result.php?q=%D5%E0%ED%F2%E5%F0%20%DD.&type=author\"\n",
    "url_current = \"https://www.chitai-gorod.ru/search/result.php?q=%D5%E0%ED%F2%E5%F0%20%DD.&type=author\""
   ]
  },
  {
   "cell_type": "code",
   "execution_count": 139,
   "metadata": {},
   "outputs": [],
   "source": [
    "with webdriver.Firefox() as driver:\n",
    "    driver.get(url_format)\n",
    "    sleep(5)"
   ]
  },
  {
   "cell_type": "code",
   "execution_count": 140,
   "metadata": {},
   "outputs": [],
   "source": [
    "with webdriver.Firefox() as driver:\n",
    "    result2 = (get_book_info(driver, url_current))"
   ]
  },
  {
   "cell_type": "code",
   "execution_count": 141,
   "metadata": {},
   "outputs": [
    {
     "data": {
      "text/plain": [
       "97"
      ]
     },
     "execution_count": 141,
     "metadata": {},
     "output_type": "execute_result"
    }
   ],
   "source": [
    "len(result2)"
   ]
  },
  {
   "cell_type": "code",
   "execution_count": 194,
   "metadata": {},
   "outputs": [
    {
     "data": {
      "text/plain": [
       "['968825']"
      ]
     },
     "execution_count": 194,
     "metadata": {},
     "output_type": "execute_result"
    }
   ],
   "source": [
    "result2\n",
    "result2[26]"
   ]
  },
  {
   "cell_type": "code",
   "execution_count": 144,
   "metadata": {},
   "outputs": [
    {
     "data": {
      "text/plain": [
       "250"
      ]
     },
     "execution_count": 144,
     "metadata": {},
     "output_type": "execute_result"
    }
   ],
   "source": [
    "result = result1 + result2\n",
    "len(result)"
   ]
  },
  {
   "cell_type": "code",
   "execution_count": 149,
   "metadata": {},
   "outputs": [],
   "source": [
    "url_format = \"https://www.chitai-gorod.ru/search/result.php?q=%C5%EC%E5%F6%20%C4.&type=author\"\n",
    "url_current = \"https://www.chitai-gorod.ru/search/result.php?q=%C5%EC%E5%F6%20%C4.&type=author\""
   ]
  },
  {
   "cell_type": "code",
   "execution_count": 150,
   "metadata": {},
   "outputs": [],
   "source": [
    "with webdriver.Firefox() as driver:\n",
    "    driver.get(url_format)\n",
    "    sleep(5)"
   ]
  },
  {
   "cell_type": "code",
   "execution_count": 154,
   "metadata": {},
   "outputs": [],
   "source": [
    "with webdriver.Firefox() as driver:\n",
    "    result3 = get_book_info(driver, url_current)"
   ]
  },
  {
   "cell_type": "code",
   "execution_count": 155,
   "metadata": {},
   "outputs": [
    {
     "data": {
      "text/plain": [
       "190"
      ]
     },
     "execution_count": 155,
     "metadata": {},
     "output_type": "execute_result"
    }
   ],
   "source": [
    "len(result3)"
   ]
  },
  {
   "cell_type": "code",
   "execution_count": 156,
   "metadata": {},
   "outputs": [],
   "source": [
    "result += result3"
   ]
  },
  {
   "cell_type": "code",
   "execution_count": 157,
   "metadata": {},
   "outputs": [
    {
     "data": {
      "text/plain": [
       "440"
      ]
     },
     "execution_count": 157,
     "metadata": {},
     "output_type": "execute_result"
    }
   ],
   "source": [
    "len(result)"
   ]
  },
  {
   "cell_type": "code",
   "execution_count": 198,
   "metadata": {},
   "outputs": [],
   "source": [
    "import string\n",
    "\n",
    "def del_spaces(str):\n",
    "    str = str.replace('\\t', '')\n",
    "    str = str.replace('\\n', '')\n",
    "    str = str.replace('  ', '')\n",
    "    return str\n",
    "\n",
    "def table_work(table, str):\n",
    "    if (table.find(str) != -1):\n",
    "        table = table.replace(str, '')\n",
    "        table = table.lstrip('\\t\\n ')\n",
    "        return 1, table\n",
    "    return 0, table\n",
    "\n",
    "def str_from_table(table):\n",
    "    idx_l = table.find('\\t')\n",
    "    res = table[0:idx_l-1]\n",
    "    del_spaces(res)\n",
    "    return res\n",
    "\n",
    "def table_result(table, str):\n",
    "    f, table  = table_work(table, str)\n",
    "    if (f):\n",
    "        res = str_from_table(table)\n",
    "        f, table  = table_work(table, res)\n",
    "        res = del_spaces(res)\n",
    "        return res, table\n",
    "    else:\n",
    "        return None, table\n",
    "\n",
    "def extract_book_info(card_id):\n",
    "    card_id = card_id[0]\n",
    "    url_format = \"https://www.chitai-gorod.ru/catalog/book/{card_id}/\"\n",
    "    url_params = {\n",
    "    'card_id': card_id,\n",
    "    }\n",
    "    url_current = url_format.format(**url_params)\n",
    "    book_html = requests.get(url_current).text\n",
    "    soup = BeautifulSoup(book_html, 'html.parser')\n",
    "    \n",
    "    author = soup.find('a', class_='link product__author').text\n",
    "    author = del_spaces(author)\n",
    "    \n",
    "    \n",
    "    price = soup.find('div', class_ ='price')\n",
    "    if (price != None):\n",
    "        price = price.text\n",
    "        price = del_spaces(price)\n",
    "        idx = price.find(\"₽\")\n",
    "        price = price[0:idx-1]\n",
    "    \n",
    "    rat = soup.find('div', class_ ='rating').find('span').text\n",
    "  \n",
    "    idx_l = rat.find(\"(\")\n",
    "    idx_r = rat.find(\")\")\n",
    "    rating = rat[0:idx_l-1]\n",
    "    vote = rat[idx_l + 1:idx_r]\n",
    "       \n",
    "    table = soup.find('div', class_='product__props').text\n",
    "    \n",
    "    ser, table = table_result(table, 'Серия')\n",
    "    izd, table = table_result(table, 'Издательство')\n",
    "    year, table = table_result(table, 'Год издания')\n",
    "    num, table = table_result(table, 'Кол-во страниц')\n",
    "    isbn, table = table_result(table, 'ISBN')\n",
    "    t, table = table_result(table, 'Тираж')\n",
    "    form, table = table_result(table, 'Формат')\n",
    "    typ, table = table_result(table, 'Тип обложки')\n",
    "    age = None\n",
    "    id_1 = None\n",
    "    pait, table = table_result(table, 'Художник')\n",
    "    if (pait is not None):\n",
    "        idx = pait.find('Возраст')\n",
    "        if (idx > 0):\n",
    "            pait = pait[0:idx]\n",
    "            age, table = table_result(table, '')\n",
    "            id_1, table = table_result(table, 'ID товара:')\n",
    "    trans, table = table_result(table, 'Редактор')\n",
    "    if (trans is not None):\n",
    "        idx = trans.find('Возраст')\n",
    "        if (idx > 0):\n",
    "            trans = trans[0:idx]\n",
    "            age, table = table_result(table, '')\n",
    "            id_1, table = table_result(table, 'ID товара:')\n",
    "    red, table = table_result(table, 'Переводчик')\n",
    "    if (red is not None):\n",
    "        idx = red.find('Возраст')\n",
    "        if (idx > 0):\n",
    "            red = red[0:idx]\n",
    "            age, table = table_result(table, '')\n",
    "            id_1, table = table_result(table, 'ID товара:')\n",
    "    if (age is None):\n",
    "        age, table = table_result(table, 'Возраст')\n",
    "        if (id_1 is None):\n",
    "            id_1, table = table_result(table, 'ID товара:')\n",
    "\n",
    "    book_info = {\n",
    "    'ID карточки': card_id,\n",
    "    'Название': soup.find('h1', class_='product__title').text,\n",
    "    'Автор': author,\n",
    "    'Рейтинг': rating,\n",
    "    'Голоса': vote,\n",
    "    \"Цена\": price,\n",
    "    \"Серия\": ser,\n",
    "    \"Издательство\": izd,\n",
    "    \"Год издания\": year,\n",
    "    \"Кол-во страниц\": num,\n",
    "    \"ISBN\": isbn,\n",
    "    \"Тираж\": t,\n",
    "    \"Формат\": form,\n",
    "    \"Тип обложки\": typ,\n",
    "    \"Художник\": pait,\n",
    "    \"Переводчик\" : trans,\n",
    "    \"Редактор\" : red,\n",
    "    \"Возраст\": age,\n",
    "    \"ID товара\": id_1,\n",
    "    'Обложка': soup.find('img', itemprop='image').get('src')\n",
    "    }\n",
    "    \n",
    "    return book_info\n",
    "   # print(book_info)\n",
    "    "
   ]
  },
  {
   "cell_type": "code",
   "execution_count": 200,
   "metadata": {},
   "outputs": [
    {
     "data": {
      "text/plain": [
       "{'ID карточки': '968825',\n",
       " 'Название': 'Месть звездного луча. Воссоединение. Книга II',\n",
       " 'Автор': 'Хантер Э.',\n",
       " 'Рейтинг': '5',\n",
       " 'Голоса': '6',\n",
       " 'Цена': '304',\n",
       " 'Серия': 'Коты-воители',\n",
       " 'Издательство': 'Олма',\n",
       " 'Год издания': '2017',\n",
       " 'Кол-во страниц': '351',\n",
       " 'ISBN': '9785001110347',\n",
       " 'Тираж': '10000',\n",
       " 'Формат': '20.7 x 13.2 x 2',\n",
       " 'Тип обложки': 'Твердая бумажная',\n",
       " 'Художник': 'Леонид Насыров',\n",
       " 'Переводчик': 'Корчагина О.',\n",
       " 'Редактор': 'Вероника Максимова',\n",
       " 'Возраст': '6+',\n",
       " 'ID товара': '2582381',\n",
       " 'Обложка': 'https://img-gorod.ru/upload/iblock/388/3885e34d728df69a54f423154abe4ef8.jpg'}"
      ]
     },
     "execution_count": 200,
     "metadata": {},
     "output_type": "execute_result"
    }
   ],
   "source": [
    "extract_book_info(result2[26])\n"
   ]
  },
  {
   "cell_type": "code",
   "execution_count": 201,
   "metadata": {},
   "outputs": [],
   "source": [
    "res = list(map(extract_book_info, result))\n",
    "\n",
    "df = pd.DataFrame(res)\n",
    "df.sort_values(by='ID карточки', inplace=True)\n",
    "\n",
    "with open('data/hw_4.csv', mode='w', encoding='utf-8') as f_csv:\n",
    "    df.to_csv(f_csv, index=False)"
   ]
  }
 ],
 "metadata": {
  "kernelspec": {
   "display_name": "Python 3",
   "language": "python",
   "name": "python3"
  },
  "language_info": {
   "codemirror_mode": {
    "name": "ipython",
    "version": 3
   },
   "file_extension": ".py",
   "mimetype": "text/x-python",
   "name": "python",
   "nbconvert_exporter": "python",
   "pygments_lexer": "ipython3",
   "version": "3.6.5"
  }
 },
 "nbformat": 4,
 "nbformat_minor": 2
}
