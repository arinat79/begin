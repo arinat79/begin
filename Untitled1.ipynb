{
 "cells": [
  {
   "cell_type": "code",
   "execution_count": 3,
   "metadata": {},
   "outputs": [],
   "source": [
    "import requests\n",
    "from html.parser import HTMLParser\n",
    "import re\n",
    "from tqdm import tqdm\n",
    "import json\n",
    "import pandas as pd\n",
    "from bs4 import BeautifulSoup\n",
    "from multiprocessing.dummy import Pool as ThreadPool\n",
    "from selenium import webdriver\n",
    "import html\n",
    "from time import sleep"
   ]
  },
  {
   "cell_type": "code",
   "execution_count": 133,
   "metadata": {},
   "outputs": [],
   "source": [
    "url_format = \"https://www.chitai-gorod.ru/search/result.php?q=%D4%F0%E0%E9%20%CC.&type=author\"\n",
    "url_current = \"https://www.chitai-gorod.ru/search/result.php?q=%D4%F0%E0%E9%20%CC.&type=author\""
   ]
  },
  {
   "cell_type": "code",
   "execution_count": 134,
   "metadata": {},
   "outputs": [],
   "source": [
    "with webdriver.Firefox() as driver:\n",
    "    driver.get(url_format)\n",
    "    sleep(5)"
   ]
  },
  {
   "cell_type": "code",
   "execution_count": 135,
   "metadata": {},
   "outputs": [],
   "source": [
    " def get_book_info(driver, url, t_sleep=15):\n",
    "    driver.get(url)\n",
    "    sleep(t_sleep) \n",
    "    result = []\n",
    "    items = driver.find_elements_by_class_name(\"product-card\")\n",
    "    for item in items:\n",
    "        classes = item.get_attribute('data-product').split()\n",
    "        result.append(classes)   \n",
    "    return result\n",
    "\n",
    "with webdriver.Firefox() as driver:\n",
    "    result1 = get_book_info(driver, url_current)"
   ]
  },
  {
   "cell_type": "code",
   "execution_count": 136,
   "metadata": {},
   "outputs": [
    {
     "data": {
      "text/plain": [
       "153"
      ]
     },
     "execution_count": 136,
     "metadata": {},
     "output_type": "execute_result"
    }
   ],
   "source": [
    "len(result1)"
   ]
  },
  {
   "cell_type": "code",
   "execution_count": 137,
   "metadata": {},
   "outputs": [
    {
     "data": {
      "text/plain": [
       "[['1085970'],\n",
       " ['1068930'],\n",
       " ['1059170'],\n",
       " ['1051063'],\n",
       " ['1021715'],\n",
       " ['1017577'],\n",
       " ['1012908'],\n",
       " ['1009680'],\n",
       " ['1008621'],\n",
       " ['1007486'],\n",
       " ['1004167'],\n",
       " ['996307'],\n",
       " ['991033'],\n",
       " ['987656'],\n",
       " ['980937'],\n",
       " ['980083'],\n",
       " ['980082'],\n",
       " ['980081'],\n",
       " ['979981'],\n",
       " ['973390'],\n",
       " ['966186'],\n",
       " ['960491'],\n",
       " ['959087'],\n",
       " ['951878'],\n",
       " ['940377'],\n",
       " ['936702'],\n",
       " ['933415'],\n",
       " ['924480'],\n",
       " ['915767'],\n",
       " ['906001'],\n",
       " ['901916'],\n",
       " ['898955'],\n",
       " ['894293'],\n",
       " ['888578'],\n",
       " ['886599'],\n",
       " ['882380'],\n",
       " ['875812'],\n",
       " ['872961'],\n",
       " ['870663'],\n",
       " ['870662'],\n",
       " ['870661'],\n",
       " ['868652'],\n",
       " ['867637'],\n",
       " ['861223'],\n",
       " ['860114'],\n",
       " ['857607'],\n",
       " ['855443'],\n",
       " ['850216'],\n",
       " ['848994'],\n",
       " ['847078'],\n",
       " ['843835'],\n",
       " ['839265'],\n",
       " ['831871'],\n",
       " ['828740'],\n",
       " ['825450'],\n",
       " ['824732'],\n",
       " ['822874'],\n",
       " ['820823'],\n",
       " ['818391'],\n",
       " ['816107'],\n",
       " ['812827'],\n",
       " ['810832'],\n",
       " ['793750'],\n",
       " ['790009'],\n",
       " ['789215'],\n",
       " ['784979'],\n",
       " ['779618'],\n",
       " ['765102'],\n",
       " ['723716'],\n",
       " ['710328'],\n",
       " ['471783'],\n",
       " ['442982'],\n",
       " ['442981'],\n",
       " ['411750'],\n",
       " ['411733'],\n",
       " ['411732'],\n",
       " ['411693'],\n",
       " ['411692'],\n",
       " ['411683'],\n",
       " ['411682'],\n",
       " ['411629'],\n",
       " ['411628'],\n",
       " ['411627'],\n",
       " ['411626'],\n",
       " ['411625'],\n",
       " ['411553'],\n",
       " ['411552'],\n",
       " ['411551'],\n",
       " ['411550'],\n",
       " ['411549'],\n",
       " ['411548'],\n",
       " ['400412'],\n",
       " ['392052'],\n",
       " ['392051'],\n",
       " ['389641'],\n",
       " ['389640'],\n",
       " ['379158'],\n",
       " ['377037'],\n",
       " ['376401'],\n",
       " ['367135'],\n",
       " ['364589'],\n",
       " ['361874'],\n",
       " ['361307'],\n",
       " ['358727'],\n",
       " ['358088'],\n",
       " ['354742'],\n",
       " ['354139'],\n",
       " ['353710'],\n",
       " ['350170'],\n",
       " ['324455'],\n",
       " ['323381'],\n",
       " ['312706'],\n",
       " ['310896'],\n",
       " ['310895'],\n",
       " ['309851'],\n",
       " ['305523'],\n",
       " ['305522'],\n",
       " ['302904'],\n",
       " ['301879'],\n",
       " ['300799'],\n",
       " ['300551'],\n",
       " ['296766'],\n",
       " ['293276'],\n",
       " ['292170'],\n",
       " ['291153'],\n",
       " ['280462'],\n",
       " ['274979'],\n",
       " ['274724'],\n",
       " ['272859'],\n",
       " ['271108'],\n",
       " ['271107'],\n",
       " ['270861'],\n",
       " ['268263'],\n",
       " ['266508'],\n",
       " ['266507'],\n",
       " ['259790'],\n",
       " ['259751'],\n",
       " ['259037'],\n",
       " ['256186'],\n",
       " ['253620'],\n",
       " ['248903'],\n",
       " ['247406'],\n",
       " ['247200'],\n",
       " ['247199'],\n",
       " ['247198'],\n",
       " ['246914'],\n",
       " ['246913'],\n",
       " ['246749'],\n",
       " ['246533'],\n",
       " ['246247'],\n",
       " ['246246'],\n",
       " ['245728'],\n",
       " ['244296']]"
      ]
     },
     "execution_count": 137,
     "metadata": {},
     "output_type": "execute_result"
    }
   ],
   "source": [
    "result1"
   ]
  },
  {
   "cell_type": "code",
   "execution_count": 138,
   "metadata": {},
   "outputs": [],
   "source": [
    "url_format = \"https://www.chitai-gorod.ru/search/result.php?q=%D5%E0%ED%F2%E5%F0%20%DD.&type=author\"\n",
    "url_current = \"https://www.chitai-gorod.ru/search/result.php?q=%D5%E0%ED%F2%E5%F0%20%DD.&type=author\""
   ]
  },
  {
   "cell_type": "code",
   "execution_count": 139,
   "metadata": {},
   "outputs": [],
   "source": [
    "with webdriver.Firefox() as driver:\n",
    "    driver.get(url_format)\n",
    "    sleep(5)"
   ]
  },
  {
   "cell_type": "code",
   "execution_count": 140,
   "metadata": {},
   "outputs": [],
   "source": [
    "with webdriver.Firefox() as driver:\n",
    "    result2 = (get_book_info(driver, url_current))"
   ]
  },
  {
   "cell_type": "code",
   "execution_count": 141,
   "metadata": {},
   "outputs": [
    {
     "data": {
      "text/plain": [
       "97"
      ]
     },
     "execution_count": 141,
     "metadata": {},
     "output_type": "execute_result"
    }
   ],
   "source": [
    "len(result2)"
   ]
  },
  {
   "cell_type": "code",
   "execution_count": 194,
   "metadata": {},
   "outputs": [
    {
     "data": {
      "text/plain": [
       "['968825']"
      ]
     },
     "execution_count": 194,
     "metadata": {},
     "output_type": "execute_result"
    }
   ],
   "source": [
    "result2\n",
    "result2[26]"
   ]
  },
  {
   "cell_type": "code",
   "execution_count": 144,
   "metadata": {},
   "outputs": [
    {
     "data": {
      "text/plain": [
       "250"
      ]
     },
     "execution_count": 144,
     "metadata": {},
     "output_type": "execute_result"
    }
   ],
   "source": [
    "result = result1 + result2\n",
    "len(result)"
   ]
  },
  {
   "cell_type": "code",
   "execution_count": 149,
   "metadata": {},
   "outputs": [],
   "source": [
    "url_format = \"https://www.chitai-gorod.ru/search/result.php?q=%C5%EC%E5%F6%20%C4.&type=author\"\n",
    "url_current = \"https://www.chitai-gorod.ru/search/result.php?q=%C5%EC%E5%F6%20%C4.&type=author\""
   ]
  },
  {
   "cell_type": "code",
   "execution_count": 150,
   "metadata": {},
   "outputs": [],
   "source": [
    "with webdriver.Firefox() as driver:\n",
    "    driver.get(url_format)\n",
    "    sleep(5)"
   ]
  },
  {
   "cell_type": "code",
   "execution_count": 154,
   "metadata": {},
   "outputs": [],
   "source": [
    "with webdriver.Firefox() as driver:\n",
    "    result3 = get_book_info(driver, url_current)"
   ]
  },
  {
   "cell_type": "code",
   "execution_count": 155,
   "metadata": {},
   "outputs": [
    {
     "data": {
      "text/plain": [
       "190"
      ]
     },
     "execution_count": 155,
     "metadata": {},
     "output_type": "execute_result"
    }
   ],
   "source": [
    "len(result3)"
   ]
  },
  {
   "cell_type": "code",
   "execution_count": 156,
   "metadata": {},
   "outputs": [],
   "source": [
    "result += result3"
   ]
  },
  {
   "cell_type": "code",
   "execution_count": 157,
   "metadata": {},
   "outputs": [
    {
     "data": {
      "text/plain": [
       "440"
      ]
     },
     "execution_count": 157,
     "metadata": {},
     "output_type": "execute_result"
    }
   ],
   "source": [
    "len(result)"
   ]
  },
  {
   "cell_type": "code",
   "execution_count": 198,
   "metadata": {},
   "outputs": [],
   "source": [
    "import string\n",
    "\n",
    "def del_spaces(str):\n",
    "    str = str.replace('\\t', '')\n",
    "    str = str.replace('\\n', '')\n",
    "    str = str.replace('  ', '')\n",
    "    return str\n",
    "\n",
    "def table_work(table, str):\n",
    "    if (table.find(str) != -1):\n",
    "        table = table.replace(str, '')\n",
    "        table = table.lstrip('\\t\\n ')\n",
    "        return 1, table\n",
    "    return 0, table\n",
    "\n",
    "def str_from_table(table):\n",
    "    idx_l = table.find('\\t')\n",
    "    res = table[0:idx_l-1]\n",
    "    del_spaces(res)\n",
    "    return res\n",
    "\n",
    "def table_result(table, str):\n",
    "    f, table  = table_work(table, str)\n",
    "    if (f):\n",
    "        res = str_from_table(table)\n",
    "        f, table  = table_work(table, res)\n",
    "        res = del_spaces(res)\n",
    "        return res, table\n",
    "    else:\n",
    "        return None, table\n",
    "\n",
    "def extract_book_info(card_id):\n",
    "    card_id = card_id[0]\n",
    "    url_format = \"https://www.chitai-gorod.ru/catalog/book/{card_id}/\"\n",
    "    url_params = {\n",
    "    'card_id': card_id,\n",
    "    }\n",
    "    url_current = url_format.format(**url_params)\n",
    "    book_html = requests.get(url_current).text\n",
    "    soup = BeautifulSoup(book_html, 'html.parser')\n",
    "    \n",
    "    author = soup.find('a', class_='link product__author').text\n",
    "    author = del_spaces(author)\n",
    "    \n",
    "    \n",
    "    price = soup.find('div', class_ ='price')\n",
    "    if (price != None):\n",
    "        price = price.text\n",
    "        price = del_spaces(price)\n",
    "        idx = price.find(\"₽\")\n",
    "        price = price[0:idx-1]\n",
    "    \n",
    "    rat = soup.find('div', class_ ='rating').find('span').text\n",
    "  \n",
    "    idx_l = rat.find(\"(\")\n",
    "    idx_r = rat.find(\")\")\n",
    "    rating = rat[0:idx_l-1]\n",
    "    vote = rat[idx_l + 1:idx_r]\n",
    "       \n",
    "    table = soup.find('div', class_='product__props').text\n",
    "    \n",
    "    ser, table = table_result(table, 'Серия')\n",
    "    izd, table = table_result(table, 'Издательство')\n",
    "    year, table = table_result(table, 'Год издания')\n",
    "    num, table = table_result(table, 'Кол-во страниц')\n",
    "    isbn, table = table_result(table, 'ISBN')\n",
    "    t, table = table_result(table, 'Тираж')\n",
    "    form, table = table_result(table, 'Формат')\n",
    "    typ, table = table_result(table, 'Тип обложки')\n",
    "    age = None\n",
    "    id_1 = None\n",
    "    pait, table = table_result(table, 'Художник')\n",
    "    if (pait is not None):\n",
    "        idx = pait.find('Возраст')\n",
    "        if (idx > 0):\n",
    "            pait = pait[0:idx]\n",
    "            age, table = table_result(table, '')\n",
    "            id_1, table = table_result(table, 'ID товара:')\n",
    "    trans, table = table_result(table, 'Редактор')\n",
    "    if (trans is not None):\n",
    "        idx = trans.find('Возраст')\n",
    "        if (idx > 0):\n",
    "            trans = trans[0:idx]\n",
    "            age, table = table_result(table, '')\n",
    "            id_1, table = table_result(table, 'ID товара:')\n",
    "    red, table = table_result(table, 'Переводчик')\n",
    "    if (red is not None):\n",
    "        idx = red.find('Возраст')\n",
    "        if (idx > 0):\n",
    "            red = red[0:idx]\n",
    "            age, table = table_result(table, '')\n",
    "            id_1, table = table_result(table, 'ID товара:')\n",
    "    if (age is None):\n",
    "        age, table = table_result(table, 'Возраст')\n",
    "        if (id_1 is None):\n",
    "            id_1, table = table_result(table, 'ID товара:')\n",
    "\n",
    "    book_info = {\n",
    "    'ID карточки': card_id,\n",
    "    'Название': soup.find('h1', class_='product__title').text,\n",
    "    'Автор': author,\n",
    "    'Рейтинг': rating,\n",
    "    'Голоса': vote,\n",
    "    \"Цена\": price,\n",
    "    \"Серия\": ser,\n",
    "    \"Издательство\": izd,\n",
    "    \"Год издания\": year,\n",
    "    \"Кол-во страниц\": num,\n",
    "    \"ISBN\": isbn,\n",
    "    \"Тираж\": t,\n",
    "    \"Формат\": form,\n",
    "    \"Тип обложки\": typ,\n",
    "    \"Художник\": pait,\n",
    "    \"Переводчик\" : trans,\n",
    "    \"Редактор\" : red,\n",
    "    \"Возраст\": age,\n",
    "    \"ID товара\": id_1,\n",
    "    'Обложка': soup.find('img', itemprop='image').get('src')\n",
    "    }\n",
    "    \n",
    "    return book_info\n",
    "   # print(book_info)\n",
    "    "
   ]
  },
  {
   "cell_type": "code",
   "execution_count": 200,
   "metadata": {},
   "outputs": [
    {
     "data": {
      "text/plain": [
       "{'ID карточки': '968825',\n",
       " 'Название': 'Месть звездного луча. Воссоединение. Книга II',\n",
       " 'Автор': 'Хантер Э.',\n",
       " 'Рейтинг': '5',\n",
       " 'Голоса': '6',\n",
       " 'Цена': '304',\n",
       " 'Серия': 'Коты-воители',\n",
       " 'Издательство': 'Олма',\n",
       " 'Год издания': '2017',\n",
       " 'Кол-во страниц': '351',\n",
       " 'ISBN': '9785001110347',\n",
       " 'Тираж': '10000',\n",
       " 'Формат': '20.7 x 13.2 x 2',\n",
       " 'Тип обложки': 'Твердая бумажная',\n",
       " 'Художник': 'Леонид Насыров',\n",
       " 'Переводчик': 'Корчагина О.',\n",
       " 'Редактор': 'Вероника Максимова',\n",
       " 'Возраст': '6+',\n",
       " 'ID товара': '2582381',\n",
       " 'Обложка': 'https://img-gorod.ru/upload/iblock/388/3885e34d728df69a54f423154abe4ef8.jpg'}"
      ]
     },
     "execution_count": 200,
     "metadata": {},
     "output_type": "execute_result"
    }
   ],
   "source": [
    "extract_book_info(result2[26])\n"
   ]
  },
  {
   "cell_type": "code",
   "execution_count": 201,
   "metadata": {},
   "outputs": [],
   "source": [
    "res = list(map(extract_book_info, result))\n",
    "\n",
    "df = pd.DataFrame(res)\n",
    "df.sort_values(by='ID карточки', inplace=True)\n",
    "\n",
    "with open('data/hw_4.csv', mode='w', encoding='utf-8') as f_csv:\n",
    "    df.to_csv(f_csv, index=False)"
   ]
  }
 ],
 "metadata": {
  "kernelspec": {
   "display_name": "Python 3",
   "language": "python",
   "name": "python3"
  },
  "language_info": {
   "codemirror_mode": {
    "name": "ipython",
    "version": 3
   },
   "file_extension": ".py",
   "mimetype": "text/x-python",
   "name": "python",
   "nbconvert_exporter": "python",
   "pygments_lexer": "ipython3",
   "version": "3.6.5"
  }
 },
 "nbformat": 4,
 "nbformat_minor": 2
}
